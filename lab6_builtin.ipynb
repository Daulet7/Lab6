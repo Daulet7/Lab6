{
 "cells": [
  {
   "cell_type": "markdown",
   "id": "be8d9622-f815-4ea6-9019-7b3bfe2b7064",
   "metadata": {},
   "source": [
    "1"
   ]
  },
  {
   "cell_type": "code",
   "execution_count": 12,
   "id": "bd934c79-5aa2-416f-9acd-b8ee30f90327",
   "metadata": {},
   "outputs": [
    {
     "name": "stdin",
     "output_type": "stream",
     "text": [
      " 1 4 7 8 5 2\n"
     ]
    },
    {
     "name": "stdout",
     "output_type": "stream",
     "text": [
      "2240\n"
     ]
    }
   ],
   "source": [
    "nlist = list(map(int, input().split()))\n",
    "answer = nlist[0]\n",
    "for i in range(1, len(nlist), 1):\n",
    "    answer *= nlist[i]\n",
    "print(answer)"
   ]
  },
  {
   "cell_type": "markdown",
   "id": "2571faed-ef10-40da-a24b-ee8e1746e6a9",
   "metadata": {},
   "source": [
    "2"
   ]
  },
  {
   "cell_type": "code",
   "execution_count": 16,
   "id": "aaef79c4-66bc-479d-8240-449979d916a3",
   "metadata": {},
   "outputs": [
    {
     "name": "stdin",
     "output_type": "stream",
     "text": [
      " LdopprIf\n"
     ]
    },
    {
     "name": "stdout",
     "output_type": "stream",
     "text": [
      "Number of uppercase letters: 2.  Number of lowercase letters: 6\n"
     ]
    }
   ],
   "source": [
    "S = input()\n",
    "nu = 0\n",
    "nl = 0\n",
    "for i in S:\n",
    "    if i == i.upper():\n",
    "        nu += 1\n",
    "    else:\n",
    "        nl += 1\n",
    "print(f\"Number of uppercase letters: {nu}.  Number of lowercase letters: {nl}\")"
   ]
  },
  {
   "cell_type": "markdown",
   "id": "be3d518c-8aa4-42cc-aa47-06c5dba7bf65",
   "metadata": {},
   "source": [
    "3"
   ]
  },
  {
   "cell_type": "code",
   "execution_count": 27,
   "id": "db6f12d2-6983-4bee-a968-bd3192250c77",
   "metadata": {},
   "outputs": [
    {
     "name": "stdin",
     "output_type": "stream",
     "text": [
      " abba\n"
     ]
    },
    {
     "name": "stdout",
     "output_type": "stream",
     "text": [
      "Palindrome\n"
     ]
    }
   ],
   "source": [
    "S = input()\n",
    "t = \"\"\n",
    "for i in range(len(S)-1, -1, -1):\n",
    "    t += S[i]\n",
    "if S == t:\n",
    "    print(\"Palindrome\")"
   ]
  },
  {
   "cell_type": "markdown",
   "id": "ffd443cb-ca70-457c-8a7a-8de8fc558405",
   "metadata": {},
   "source": [
    "4"
   ]
  },
  {
   "cell_type": "code",
   "execution_count": 30,
   "id": "9e361f64-f91a-4b77-b0c2-2b53eb881d6f",
   "metadata": {},
   "outputs": [
    {
     "name": "stdin",
     "output_type": "stream",
     "text": [
      " 16\n",
      " 800\n"
     ]
    },
    {
     "name": "stdout",
     "output_type": "stream",
     "text": [
      "4.0\n"
     ]
    }
   ],
   "source": [
    "import math\n",
    "import time\n",
    "N = int(input())\n",
    "T = int(input())\n",
    "time.sleep(T/1000)\n",
    "print(math.sqrt(N))"
   ]
  },
  {
   "cell_type": "markdown",
   "id": "f1cb4de6-0261-42b7-911e-e1ef0502a99b",
   "metadata": {},
   "source": [
    "5"
   ]
  },
  {
   "cell_type": "code",
   "execution_count": 41,
   "id": "b6b14cbc-9fec-4eda-8352-38d0f9409e81",
   "metadata": {},
   "outputs": [
    {
     "name": "stdin",
     "output_type": "stream",
     "text": [
      " 1 4 75 0 4\n"
     ]
    },
    {
     "name": "stdout",
     "output_type": "stream",
     "text": [
      "False\n"
     ]
    }
   ],
   "source": [
    "l = list(map(int, input().split()))\n",
    "t = tuple(l)\n",
    "if all(t):\n",
    "    print(\"True\")\n",
    "else:\n",
    "    print(\"False\")"
   ]
  },
  {
   "cell_type": "code",
   "execution_count": null,
   "id": "b4451ec2-2bce-45ab-934d-1a8c396a42e9",
   "metadata": {},
   "outputs": [],
   "source": []
  }
 ],
 "metadata": {
  "kernelspec": {
   "display_name": "Python [conda env:base] *",
   "language": "python",
   "name": "conda-base-py"
  },
  "language_info": {
   "codemirror_mode": {
    "name": "ipython",
    "version": 3
   },
   "file_extension": ".py",
   "mimetype": "text/x-python",
   "name": "python",
   "nbconvert_exporter": "python",
   "pygments_lexer": "ipython3",
   "version": "3.12.7"
  }
 },
 "nbformat": 4,
 "nbformat_minor": 5
}
