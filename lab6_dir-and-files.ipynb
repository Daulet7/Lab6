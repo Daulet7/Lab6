{
 "cells": [
  {
   "cell_type": "markdown",
   "id": "59cbeac0-0822-4a60-b4a0-c220e978490e",
   "metadata": {},
   "source": [
    "1"
   ]
  },
  {
   "cell_type": "code",
   "execution_count": 14,
   "id": "8b151dbc-06d1-47b7-8c2a-0dbf483524ab",
   "metadata": {},
   "outputs": [
    {
     "name": "stdin",
     "output_type": "stream",
     "text": [
      " C:\\Users\\HP\\Downloads\n"
     ]
    },
    {
     "name": "stdout",
     "output_type": "stream",
     "text": [
      "1.jpg\n",
      "Anaconda3-2024.10-1-Windows-x86_64.exe\n",
      "Bobby Fischer Teaches Chess.epub\n",
      "calc2_w2.pdf\n",
      "Calculus-1_final exam sample.pdf\n",
      "desktop.ini\n",
      "ID.pdf\n",
      "Radmin_VPN_1.4.4642.1.exe\n",
      "sample-data.json\n",
      "Screenshot 2025-02-18 131718.png\n",
      "Screenshot_15-9-2024_191326_my.egov.kz.jpeg\n",
      "SIS 2 Communication.docx\n",
      "SIS 2 English (1).docx\n",
      "syllabus_PHYSICS 1_25_spring.pdf\n",
      "Telegram Desktop\n",
      "Terraria by Igruha\n",
      "Terraria-by-Igruha.torrent\n",
      "TLauncher-Installer-1.5.8.exe\n",
      "uTorrent.exe\n",
      "week3.pdf\n",
      "xnafx40_redist.msi\n",
      "_OceanofPDF.com_Swing_Trading_For_Dummies_3rd_Edition_-_Omar_Bassal.epub\n",
      "Заявка Ару мерген — 1.docx\n",
      "РЕФЕРАТ 1.pdf\n",
      "СРС 10.00 - 11.00 (1).pdf\n",
      "СРС 10.00 - 11.00.pdf\n",
      "СРС ИК (1).docx\n",
      "структура и  критерии оценивания Рефеарат (СРС).pdf\n",
      "Темы рефератов .xlsx\n"
     ]
    }
   ],
   "source": [
    "import os\n",
    "key = input()\n",
    "for i in os.listdir(key):\n",
    "    print(i)"
   ]
  },
  {
   "cell_type": "markdown",
   "id": "3bfc5a4b-d0cc-4664-8203-c64aef0e93ae",
   "metadata": {},
   "source": [
    "2"
   ]
  },
  {
   "cell_type": "code",
   "execution_count": 17,
   "id": "2f43dd3b-3edf-4004-a1c5-3ff767229f0a",
   "metadata": {},
   "outputs": [
    {
     "name": "stdin",
     "output_type": "stream",
     "text": [
      " C:\\Users\\HP\\Downloads\n"
     ]
    },
    {
     "name": "stdout",
     "output_type": "stream",
     "text": [
      "The path exists\n",
      "It's readable\n",
      "It's writeable\n",
      "It's executable\n"
     ]
    }
   ],
   "source": [
    "import os\n",
    "key = input()\n",
    "if os.path.exists(key):\n",
    "    print(\"The path exists\")\n",
    "    if os.access(key, os.R_OK):\n",
    "        print(\"It's readable\")\n",
    "    else:\n",
    "        print(\"It's not readable\")\n",
    "    if os.access(key, os.W_OK):\n",
    "        print(\"It's writeable\")\n",
    "    else:\n",
    "        print(\"It's not writeable\")\n",
    "    if os.access(key, os.X_OK):\n",
    "        print(\"It's executable\")\n",
    "    else:\n",
    "        print(\"It's not executable\")\n",
    "else:\n",
    "    print(\"The path does not exist\")"
   ]
  },
  {
   "cell_type": "markdown",
   "id": "13c0a8df-ae95-4824-911e-9a78697e640b",
   "metadata": {},
   "source": [
    "3"
   ]
  },
  {
   "cell_type": "code",
   "execution_count": 20,
   "id": "8b042053-320e-4508-a933-b6cd64d78866",
   "metadata": {},
   "outputs": [
    {
     "name": "stdin",
     "output_type": "stream",
     "text": [
      " C:\\Users\\HP\\Downloads\n"
     ]
    },
    {
     "name": "stdout",
     "output_type": "stream",
     "text": [
      "The path exists C:\\Users\\HP Downloads\n"
     ]
    }
   ],
   "source": [
    "import os\n",
    "key = input()\n",
    "if os.path.exists(key):\n",
    "    print(\"The path exists\", os.path.dirname(key), os.path.basename(key))\n",
    "else:\n",
    "    print(\"The path doesn't exist\")"
   ]
  },
  {
   "cell_type": "markdown",
   "id": "029391a7-2722-4ed8-8a44-aa134663fdf7",
   "metadata": {},
   "source": [
    "4"
   ]
  },
  {
   "cell_type": "code",
   "execution_count": 31,
   "id": "832ee0a9-e233-4f67-ac9f-04efe52d17f9",
   "metadata": {},
   "outputs": [
    {
     "name": "stdin",
     "output_type": "stream",
     "text": [
      " C:\\Users\\HP\\OneDrive - АО Казахстанско-Британский Технический Университет\\Рабочий стол\\ppexample.txt\n"
     ]
    },
    {
     "name": "stdout",
     "output_type": "stream",
     "text": [
      "0\n"
     ]
    }
   ],
   "source": [
    "file_name = input()\n",
    "file = open(file_name, 'r')\n",
    "answer = 0\n",
    "for i in file:\n",
    "    answer += 1\n",
    "print(answer)"
   ]
  },
  {
   "cell_type": "markdown",
   "id": "5cc9cc15-b477-49ad-aaa0-cda294948c81",
   "metadata": {},
   "source": [
    "5"
   ]
  },
  {
   "cell_type": "code",
   "execution_count": 48,
   "id": "549ac6fe-c362-41ba-961f-c65561ce6b9c",
   "metadata": {},
   "outputs": [
    {
     "name": "stdin",
     "output_type": "stream",
     "text": [
      " C:\\Users\\HP\\OneDrive - АО Казахстанско-Британский Технический Университет\\Рабочий стол\\ppexample.txt\n",
      " oerj feirowfjeriow fwiejor fw\n"
     ]
    },
    {
     "name": "stdout",
     "output_type": "stream",
     "text": [
      "oerj feirowfjeriow fwiejor fw \n"
     ]
    }
   ],
   "source": [
    "file_name = input()\n",
    "write_list = input().split()\n",
    "file = open(file_name, 'w')\n",
    "for i in write_list:\n",
    "    file.write(i)\n",
    "    file.write(\" \")\n",
    "file = open(file_name, 'r')\n",
    "print(file.read())\n",
    "file.close()"
   ]
  },
  {
   "cell_type": "markdown",
   "id": "8e619051-ec7f-4d2a-b518-d8351ed43e5f",
   "metadata": {},
   "source": [
    "6"
   ]
  },
  {
   "cell_type": "code",
   "execution_count": 91,
   "id": "72e08dc5-481c-484b-8d93-7084bf4bd064",
   "metadata": {},
   "outputs": [
    {
     "name": "stdout",
     "output_type": "stream",
     "text": [
      ".anaconda\n",
      ".conda\n",
      ".condarc\n",
      ".continuum\n",
      ".ipynb_checkpoints\n",
      ".ipython\n",
      ".jupyter\n",
      ".matplotlib\n",
      ".vscode\n",
      "A.txt\n",
      "anaconda3\n",
      "anaconda_projects\n",
      "AppData\n",
      "Application Data\n",
      "B.txt\n",
      "C.txt\n",
      "Contacts\n",
      "Cookies\n",
      "D.txt\n",
      "Documents\n",
      "Downloads\n",
      "E.txt\n",
      "F.txt\n",
      "Favorites\n",
      "G.txt\n",
      "H.txt\n",
      "I.txt\n",
      "J.txt\n",
      "K.txt\n",
      "L.txt\n",
      "lab2.ipynb\n",
      "lab3_classes.ipynb\n",
      "lab3_functions1.ipynb\n",
      "lab3_functions2.ipynb\n",
      "lab4_date.ipynb\n",
      "lab4_generators.ipynb\n",
      "lab4_JSON.ipynb\n",
      "lab4_math.ipynb\n",
      "lab5.ipynb\n",
      "lab6_dir-and-files.ipynb\n",
      "Links\n",
      "Local Settings\n",
      "M.txt\n",
      "Music\n",
      "N.txt\n",
      "NetHood\n",
      "NTUSER.DAT\n",
      "ntuser.dat.LOG1\n",
      "ntuser.dat.LOG2\n",
      "NTUSER.DAT{8353fee8-80ec-11ef-ac63-daa7114e72a3}.TxR.0.regtrans-ms\n",
      "NTUSER.DAT{8353fee8-80ec-11ef-ac63-daa7114e72a3}.TxR.1.regtrans-ms\n",
      "NTUSER.DAT{8353fee8-80ec-11ef-ac63-daa7114e72a3}.TxR.2.regtrans-ms\n",
      "NTUSER.DAT{8353fee8-80ec-11ef-ac63-daa7114e72a3}.TxR.blf\n",
      "NTUSER.DAT{8353fee9-80ec-11ef-ac63-daa7114e72a3}.TM.blf\n",
      "NTUSER.DAT{8353fee9-80ec-11ef-ac63-daa7114e72a3}.TMContainer00000000000000000001.regtrans-ms\n",
      "NTUSER.DAT{8353fee9-80ec-11ef-ac63-daa7114e72a3}.TMContainer00000000000000000002.regtrans-ms\n",
      "ntuser.ini\n",
      "O.txt\n",
      "OneDrive\n",
      "OneDrive - АО Казахстанско-Британский Технический Университет\n",
      "P.txt\n",
      "PP2.notebook\n",
      "PrintHood\n",
      "Q.txt\n",
      "R.txt\n",
      "Recent\n",
      "S.txt\n",
      "Saved Games\n",
      "Searches\n",
      "SendTo\n",
      "T.txt\n",
      "U.txt\n",
      "V.txt\n",
      "Videos\n",
      "W.txt\n",
      "X.txt\n",
      "Y.txt\n",
      "Z.txt\n",
      "главное меню\n",
      "Мои документы\n",
      "Шаблоны\n"
     ]
    }
   ],
   "source": [
    "import string\n",
    "import os\n",
    "\"\"\"\n",
    "for i in string.ascii_uppercase:\n",
    "    file = f\"{i}.txt\"\n",
    "    new = open(file, 'x')\n",
    "\"\"\"\n",
    "for i in os.listdir(r\"C:\\Users\\HP\"):\n",
    "    print(i)\n",
    "    new.close()"
   ]
  },
  {
   "cell_type": "markdown",
   "id": "9895f18f-567a-4fb9-84c5-48c73371c65c",
   "metadata": {},
   "source": [
    "7"
   ]
  },
  {
   "cell_type": "code",
   "execution_count": 80,
   "id": "f49948e5-974e-49f1-b76f-26dd00f434a8",
   "metadata": {},
   "outputs": [
    {
     "name": "stdin",
     "output_type": "stream",
     "text": [
      " C:\\Users\\HP\\OneDrive - АО Казахстанско-Британский Технический Университет\\Рабочий стол\\ppexample.txt\n",
      " C:\\Users\\HP\\OneDrive - АО Казахстанско-Британский Технический Университет\\Рабочий стол\\ppexample2.txt\n"
     ]
    }
   ],
   "source": [
    "name1 = input()\n",
    "name2 = input()\n",
    "file1 = open(name1, 'r')\n",
    "copy = ''\n",
    "for i in file1:\n",
    "    copy += i\n",
    "file2 = open(name2, 'a')\n",
    "for i in copy:\n",
    "    file2.write(i)"
   ]
  },
  {
   "cell_type": "markdown",
   "id": "4eb2672d-bfe8-4541-9563-5345aa9abafe",
   "metadata": {},
   "source": [
    "8"
   ]
  },
  {
   "cell_type": "code",
   "execution_count": 97,
   "id": "bdf81d29-346f-406b-8dcb-d49206167d84",
   "metadata": {},
   "outputs": [
    {
     "name": "stdin",
     "output_type": "stream",
     "text": [
      " C:\\Users\\HP\\to delet.txt\n"
     ]
    },
    {
     "name": "stdout",
     "output_type": "stream",
     "text": [
      "The path exists\n"
     ]
    }
   ],
   "source": [
    "import os\n",
    "key = input()\n",
    "if os.path.exists(key):\n",
    "    print(\"The path exists\")\n",
    "    os.remove(key)\n",
    "else:\n",
    "    print(\"The path does not exist\")"
   ]
  },
  {
   "cell_type": "code",
   "execution_count": null,
   "id": "a76672f0-2080-486a-8a4a-6e85109177a7",
   "metadata": {},
   "outputs": [],
   "source": []
  }
 ],
 "metadata": {
  "kernelspec": {
   "display_name": "Python [conda env:base] *",
   "language": "python",
   "name": "conda-base-py"
  },
  "language_info": {
   "codemirror_mode": {
    "name": "ipython",
    "version": 3
   },
   "file_extension": ".py",
   "mimetype": "text/x-python",
   "name": "python",
   "nbconvert_exporter": "python",
   "pygments_lexer": "ipython3",
   "version": "3.12.7"
  }
 },
 "nbformat": 4,
 "nbformat_minor": 5
}
